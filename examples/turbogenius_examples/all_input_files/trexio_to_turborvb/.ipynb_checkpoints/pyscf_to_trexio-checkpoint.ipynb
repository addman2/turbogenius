{
 "cells": [
  {
   "cell_type": "markdown",
   "id": "acb0a1d5",
   "metadata": {},
   "source": [
    "# pySCF -> TREX-IO (Water molecule)\n",
    "\n",
    "- Water Molecule\n",
    "- HF,DFT, or MP2\n",
    "- From pyscf to TREX-IO HDF5\n",
    "- Basis: contracted cc_pVTZ\n",
    "- PP: ccECP\n",
    "- Atomic orbial type: spherical"
   ]
  },
  {
   "cell_type": "markdown",
   "id": "a62ab34c",
   "metadata": {},
   "source": [
    "## pySCF part \n",
    "\n",
    "- how to install pyscf\n",
    "- pip install pyscf"
   ]
  },
  {
   "cell_type": "code",
   "execution_count": 51,
   "id": "6d32a038",
   "metadata": {},
   "outputs": [],
   "source": [
    "# load python packages\n",
    "import numpy as np\n",
    "import os\n",
    "import pandas as pd\n",
    "import scipy\n",
    "import numpy\n",
    "import itertools"
   ]
  },
  {
   "cell_type": "code",
   "execution_count": 52,
   "id": "a659ec73",
   "metadata": {},
   "outputs": [],
   "source": [
    "# load pyscf packages\n",
    "from pyscf import gto, scf, mp, tools"
   ]
  },
  {
   "cell_type": "code",
   "execution_count": 53,
   "id": "3d713819",
   "metadata": {
    "scrolled": true
   },
   "outputs": [],
   "source": [
    "# build a water molecule\n",
    "mol = gto.Mole()\n",
    "mol.verbose = 5\n",
    "mol.output = 'out_h2o'\n",
    "mol.atom = \"\"\"\n",
    "O 5.000000 7.147077 7.650971 \n",
    "H 4.068066 6.942975 7.563761 \n",
    "H 5.380237 6.896963 6.807984\"\"\"\n",
    "mol.unit     = 'A'\n",
    "mol.charge = 0\n",
    "mol.spin = 0\n",
    "mol.symmetry = True"
   ]
  },
  {
   "cell_type": "code",
   "execution_count": 54,
   "id": "240e3fbc",
   "metadata": {},
   "outputs": [],
   "source": [
    "# basis set (preset)\n",
    "mol.basis = \"ccecp-ccpvtz\""
   ]
  },
  {
   "cell_type": "code",
   "execution_count": 55,
   "id": "3952db19",
   "metadata": {},
   "outputs": [],
   "source": [
    "# define ecp\n",
    "mol.ecp = 'ccecp'"
   ]
  },
  {
   "cell_type": "code",
   "execution_count": 56,
   "id": "d2d7cd2c",
   "metadata": {},
   "outputs": [
    {
     "name": "stdout",
     "output_type": "stream",
     "text": [
      "overwrite output file: out_h2o\n"
     ]
    },
    {
     "data": {
      "text/plain": [
       "<pyscf.gto.mole.Mole at 0x7fa3d0ca6790>"
      ]
     },
     "execution_count": 56,
     "metadata": {},
     "output_type": "execute_result"
    }
   ],
   "source": [
    "# molecular build\n",
    "mol.build(cart=False) # cart = False => use spherical basis!!"
   ]
  },
  {
   "cell_type": "code",
   "execution_count": 57,
   "id": "a744d75e",
   "metadata": {
    "scrolled": true
   },
   "outputs": [
    {
     "name": "stdout",
     "output_type": "stream",
     "text": [
      "Total energy = -16.943529913747163\n",
      "HF/DFT calculation is done.\n"
     ]
    }
   ],
   "source": [
    "calc_type=\"HF\" # HF/DFT\n",
    "\n",
    "if calc_type==\"HF\":\n",
    "    # HF calculation\n",
    "    mf = scf.RHF(mol)\n",
    "\n",
    "elif calc_type==\"DFT\":\n",
    "    # DFT calculation\n",
    "    mf = scf.KS(mol).density_fit()\n",
    "    mf.xc = 'LDA_X,LDA_C_PZ'\n",
    "else:\n",
    "    raise NotImplementedError\n",
    "    \n",
    "energy=mf.kernel()\n",
    "    \n",
    "# Molecular Orbitals and occupations\n",
    "mo_coeff = mf.mo_coeff # HF/DFT coeff\n",
    "mo_occ = mf.mo_occ # HF/DFT coeff\n",
    "# Notice!! The mo_i-th molecular orbital is NOT mo_coeff[mo_i], but mo_coeff[:,mo_i] !!\n",
    "\n",
    "# HF/DFT energy\n",
    "print(f\"Total energy = {energy}\")\n",
    "print(\"HF/DFT calculation is done.\")"
   ]
  },
  {
   "cell_type": "code",
   "execution_count": 58,
   "id": "de26a277",
   "metadata": {},
   "outputs": [],
   "source": [
    "MP2_flag=False\n",
    "\n",
    "if MP2_flag:\n",
    "    # MP2 calculation\n",
    "    pt = mp.MP2(mf)\n",
    "    mp2_E, t2 = pt.kernel(mf.mo_energy, mf.mo_coeff)\n",
    "    print(f\"MP2 correlated energy={mp2_E}\")\n",
    "    \n",
    "    # construct the one body density matrix\n",
    "    rdm1 = pt.make_rdm1()\n",
    "\n",
    "    # diagonalize to yield the NOs and NO occupation #s\n",
    "    no_occ, no = scipy.linalg.eigh(rdm1)\n",
    "    no_occ = no_occ[::-1]\n",
    "    no = no[:, ::-1]\n",
    "\n",
    "    #print(no_occ)\n",
    "\n",
    "    no_occ_thr=1.0e-3\n",
    "    print(f\"no_occ_thr={no_occ_thr}\")\n",
    "    for i in range(len(no_occ)):\n",
    "        if no_occ[i] >= no_occ_thr and no_occ[i+1] < no_occ_thr:\n",
    "            print(f\"no_occ < {no_occ_thr} is 1-{i+1}\")\n",
    "            break\n",
    "            \n",
    "    # atomic orbital representation of the NO\n",
    "    no_coeff = mf.mo_coeff.dot(no)\n",
    "    \n",
    "    # Molecular orbital and occupations\n",
    "    mo_coeff = no_coeff # natural coeff\n",
    "    mo_occ = no_occ # natural orbital\n",
    "    print(\"MP2 calculation is done.\")"
   ]
  },
  {
   "cell_type": "code",
   "execution_count": 59,
   "id": "9c5e0852",
   "metadata": {},
   "outputs": [
    {
     "name": "stdout",
     "output_type": "stream",
     "text": [
      "PySCF calculation is done.\n"
     ]
    }
   ],
   "source": [
    "print(\"PySCF calculation is done.\")"
   ]
  },
  {
   "cell_type": "markdown",
   "id": "04219b42",
   "metadata": {},
   "source": [
    "## pySCF -> TREX-IO\n",
    "- how to install trexio\n",
    "- pip install trexio"
   ]
  },
  {
   "cell_type": "code",
   "execution_count": 60,
   "id": "88cff8b8",
   "metadata": {},
   "outputs": [],
   "source": [
    "# import trexio\n",
    "import trexio"
   ]
  },
  {
   "cell_type": "code",
   "execution_count": 61,
   "id": "636214b7",
   "metadata": {},
   "outputs": [],
   "source": [
    "# set a filename\n",
    "filename = 'water.hdf5'\n",
    "if os.path.exists(filename): os.remove(filename)\n",
    "trexio_file = trexio.File(filename, mode='w', back_end=trexio.TREXIO_HDF5)"
   ]
  },
  {
   "cell_type": "code",
   "execution_count": 62,
   "id": "bc28f2a0",
   "metadata": {},
   "outputs": [],
   "source": [
    "# structure info.\n",
    "electron_up_num, electron_dn_num=mol.nelec\n",
    "nucleus_num=mol.natm\n",
    "atom_charges_list=[mol.atom_charge(i) for i in range(mol.natm)]\n",
    "atom_nelec_core_list=[mol.atom_nelec_core(i) for i in range(mol.natm)]\n",
    "atomic_number_list=[mol.atom_charge(i) + mol.atom_nelec_core(i) for i in range(mol.natm)]\n",
    "chemical_symbol_list=[mol.atom_pure_symbol(i) for i in range(mol.natm)]\n",
    "coords_np=mol.atom_coords(unit='Bohr')"
   ]
  },
  {
   "cell_type": "code",
   "execution_count": 63,
   "id": "33255648",
   "metadata": {},
   "outputs": [],
   "source": [
    "##########################################\n",
    "# Structure info\n",
    "##########################################\n",
    "# write electron num\n",
    "trexio.write_electron_up_num(trexio_file, electron_up_num)\n",
    "trexio.write_electron_dn_num(trexio_file, electron_dn_num)\n",
    "# write nuclear num\n",
    "trexio.write_nucleus_num(trexio_file, nucleus_num)\n",
    "# write charges\n",
    "trexio.write_nucleus_charge(trexio_file, atom_charges_list)\n",
    "# write labels\n",
    "trexio.write_nucleus_label(trexio_file, chemical_symbol_list)\n",
    "# write point group (combined with ase, in the near future)\n",
    "# trexio.write_nucleus_point_group(trexio_file, point_group)\n",
    "# write nucleus_coord\n",
    "trexio.write_nucleus_coord(trexio_file, coords_np)"
   ]
  },
  {
   "cell_type": "code",
   "execution_count": 64,
   "id": "0152fa5b",
   "metadata": {},
   "outputs": [],
   "source": [
    "# check the orders of the spherical atomic basis in py scf!!\n",
    "# gto.spheric_labels(mol, fmt=\"%d, %s, %s, %s\")\n",
    "# s -> s\n",
    "# p -> px, py, pz\n",
    "# >= d -> m=(-l ... 0 ... +l)"
   ]
  },
  {
   "cell_type": "code",
   "execution_count": 65,
   "id": "492822be",
   "metadata": {},
   "outputs": [],
   "source": [
    "##########################################\n",
    "# basis set info\n",
    "##########################################\n",
    "basis_type=\"Gaussian\"\n",
    "basis_shell_num=int(np.sum([mol.atom_nshells(i) for i in range(nucleus_num)]))\n",
    "nucleus_index=[]\n",
    "for i in range(nucleus_num):\n",
    "    for _ in range(len(mol.atom_shell_ids(i))):\n",
    "        nucleus_index.append(i)\n",
    "shell_ang_mom=[mol.bas_angular(i) for i in range(basis_shell_num)]\n",
    "basis_prim_num=int(np.sum([mol.bas_nprim(i) for i in range(basis_shell_num)]))\n",
    "\n",
    "basis_exponent=[]\n",
    "basis_coefficient=[]\n",
    "for i in range(basis_shell_num):\n",
    "    for bas_exp in mol.bas_exp(i):\n",
    "        basis_exponent.append(float(bas_exp))\n",
    "    for bas_ctr_coeff in mol.bas_ctr_coeff(i):\n",
    "        basis_coefficient.append(float(bas_ctr_coeff))\n",
    "\n",
    "#print(basis_exponent)\n",
    "#print(basis_coefficient)\n",
    "\n",
    "basis_shell_index=[]\n",
    "for i in range(basis_shell_num):\n",
    "    for _ in range(len(mol.bas_exp(i))):\n",
    "        basis_shell_index.append(i)\n",
    "\n",
    "# normalization factors\n",
    "basis_shell_factor = [1.0 for _ in range(basis_shell_num)] # 1.0 in pySCF\n",
    "\n",
    "# gto_norm(l, expnt) => l is angmom, expnt is exponent\n",
    "# Note!! Here, the nomarlization factor of the spherical part are not included.\n",
    "# The normalization factor is computed according to Eq.8 of the following paper\n",
    "# H. B. Schlegel and M. J. Frisch, Int. J. Quant.  Chem., 54(1995), 83-87.\n",
    "basis_prim_factor=[]\n",
    "for prim_i in range(basis_prim_num):\n",
    "    coeff=basis_coefficient[prim_i]\n",
    "    expnt=basis_exponent[prim_i]\n",
    "    l=shell_ang_mom[basis_shell_index[prim_i]]\n",
    "    basis_prim_factor.append(mol.gto_norm(l, expnt)/np.sqrt(4*np.pi)*np.sqrt(2*l+1))"
   ]
  },
  {
   "cell_type": "code",
   "execution_count": 66,
   "id": "307ca841",
   "metadata": {},
   "outputs": [],
   "source": [
    "##########################################\n",
    "# ao info\n",
    "##########################################\n",
    "ao_cartesian = 0 # spherical basis representation\n",
    "ao_shell=[]\n",
    "for i, ang_mom in enumerate(shell_ang_mom):\n",
    "    for _ in range(2*ang_mom + 1):\n",
    "        ao_shell.append(i)\n",
    "ao_num=len(ao_shell)\n",
    "\n",
    "# 1.0 in pyscf (because spherical)\n",
    "ao_normalization = [1.0 for _ in range(ao_num)]"
   ]
  },
  {
   "cell_type": "code",
   "execution_count": 67,
   "id": "9324d9e6",
   "metadata": {},
   "outputs": [
    {
     "name": "stdout",
     "output_type": "stream",
     "text": [
      "--MOs Done--\n"
     ]
    }
   ],
   "source": [
    "##########################################\n",
    "# mo info\n",
    "##########################################\n",
    "mo_type=\"MO\"\n",
    "mo_num=len(mf.mo_coeff)\n",
    "mo_occupation=mf.mo_occ\n",
    "mo_energy=mf.mo_energy\n",
    "\n",
    "permutation_matrix=[] # for ao and mo swaps\n",
    "\n",
    "# molecular orbital reordering\n",
    "# TREX-IO employs (m=-l,..., 0, ..., +l) for spherical basis\n",
    "mo_coefficient=[]\n",
    "\n",
    "mo_coeff=mf.mo_coeff\n",
    "#for mo in mo_coeff:\n",
    "for mo_i in range(mo_num):\n",
    "    mo=mo_coeff[:,mo_i]\n",
    "    mo_coeff_buffer=[]\n",
    "    \n",
    "    perm_list=[]\n",
    "    perm_n=0\n",
    "    for ao_i, ao_c in enumerate(mo):\n",
    "\n",
    "        # initialization\n",
    "        if ao_i==0:\n",
    "            mo_coeff_for_reord=[]\n",
    "            current_ang_mom=-1\n",
    "\n",
    "        # read ang_mom (i.e., angular momentum of the shell)\n",
    "        bas_i=ao_shell[ao_i]\n",
    "        ang_mom=shell_ang_mom[bas_i]\n",
    "        \n",
    "        previous_ang_mom=current_ang_mom\n",
    "        current_ang_mom=ang_mom\n",
    "        \n",
    "        # set multiplicity\n",
    "        multiplicity = 2 * ang_mom + 1\n",
    "        #print(f\"multiplicity = {multiplicity}\")\n",
    "        \n",
    "        # check if the buffer is null, when ang_mom changes\n",
    "        if previous_ang_mom != current_ang_mom:\n",
    "            assert len(mo_coeff_for_reord) == 0\n",
    "        \n",
    "        if current_ang_mom==0: # s shell\n",
    "            #print(\"s shell/no permutation is needed.\")\n",
    "            #print(\"(pyscf notation): s(l=0)\")\n",
    "            #print(\"(trexio notation): s(l=0)\")\n",
    "            reorder_index=[0]\n",
    "        \n",
    "        elif current_ang_mom==1: # p shell\n",
    "            \n",
    "            #print(\"p shell/permutation is needed.\")\n",
    "            #print(\"(pyscf notation): px(l=+1), py(l=-1), pz(l=0)\")\n",
    "            #print(\"(trexio notation): pz(l=0), px(l=+1), py(l=-1)\")\n",
    "            reorder_index=[2,0,1]\n",
    "\n",
    "\n",
    "        elif current_ang_mom>=2: # > d shell\n",
    "            \n",
    "            #print(\"> d shell/permutation is needed.\")\n",
    "            #print(\"(pyscf notation): e.g., f3,-3(l=-3), f3,-2(l=-2), f3,-1(l=-1), f3,0(l=0), f3,+1(l=+1), f3,+2(l=+2), f3,+3(l=+3)\")\n",
    "            #print(\"(trexio  notation): e.g, f3,0(l=0), f3,+1(l=+1), f3,-1(l=-1), f3,+2(l=+2), f3,-2(l=-2), f3,+3(l=+3), f3,-3(l=-3)\")\n",
    "            l0_index=int((multiplicity-1)/2)\n",
    "            reorder_index=[l0_index]\n",
    "            for i in range(1, int((multiplicity-1)/2)+1):\n",
    "                reorder_index.append(l0_index+i)\n",
    "                reorder_index.append(l0_index-i)\n",
    "            \n",
    "        else:\n",
    "            raise\n",
    "                    \n",
    "        mo_coeff_for_reord.append(ao_c)\n",
    "\n",
    "        # write MOs!!\n",
    "        if len(mo_coeff_for_reord) == multiplicity:\n",
    "            #print(\"--write MOs!!--\")\n",
    "            mo_coeff_buffer+=[mo_coeff_for_reord[i] for i in reorder_index]\n",
    "            \n",
    "            # reset buffer\n",
    "            mo_coeff_for_reord=[]\n",
    "            \n",
    "            #print(\"--write perm_list\")\n",
    "            #print(np.array(reorder_index)+perm_n)\n",
    "            #print(perm_list)\n",
    "            perm_list+=list(np.array(reorder_index)+perm_n)\n",
    "            perm_n=perm_n+len(reorder_index)\n",
    "    \n",
    "    mo_coefficient.append(mo_coeff_buffer)\n",
    "    permutation_matrix.append(perm_list)\n",
    "\n",
    "print(\"--MOs Done--\")"
   ]
  },
  {
   "cell_type": "code",
   "execution_count": 68,
   "id": "8fa1b810",
   "metadata": {},
   "outputs": [],
   "source": [
    "##########################################\n",
    "# atomic orbital integrals\n",
    "##########################################\n",
    "\n",
    "def row_column_swap(inp_matrix, perm_list):\n",
    "    mat_org=inp_matrix\n",
    "    mat_row_swap=np.array([mat_org[i] for i in perm_list])\n",
    "    mat_row_swap_T=mat_row_swap.T\n",
    "    mat_row_swap_col_swap=np.array([mat_row_swap_T[i] for i in perm_list])\n",
    "    mat_inv=mat_row_swap_col_swap.T\n",
    "    \n",
    "    for i in range(len(mat_org)):\n",
    "        for j in range(len(mat_org)):\n",
    "            assert np.round(mat_inv[i][j],10) == np.round(mat_inv[j][i],10)\n",
    "            #print(\"-------------------------\")\n",
    "        \n",
    "    return mat_inv\n",
    "\n",
    "perm_list=permutation_matrix[0]\n",
    "intor_int1e_ovlp=row_column_swap(mol.intor(\"int1e_ovlp\"), perm_list)\n",
    "intor_int1e_nuc=row_column_swap(mol.intor(\"int1e_nuc\"), perm_list)\n",
    "intor_int1e_kin=row_column_swap(mol.intor(\"int1e_kin\"), perm_list)"
   ]
  },
  {
   "cell_type": "code",
   "execution_count": 69,
   "id": "a2e99e17",
   "metadata": {},
   "outputs": [],
   "source": [
    "##########################################\n",
    "# basis set info\n",
    "##########################################\n",
    "trexio.write_basis_type(trexio_file, basis_type) #\n",
    "trexio.write_basis_shell_num(trexio_file, basis_shell_num) #\n",
    "trexio.write_basis_prim_num(trexio_file, basis_prim_num) #\n",
    "trexio.write_basis_nucleus_index(trexio_file, nucleus_index) #\n",
    "trexio.write_basis_shell_ang_mom(trexio_file, shell_ang_mom) #\n",
    "trexio.write_basis_shell_factor(trexio_file, basis_shell_factor) #\n",
    "trexio.write_basis_shell_index(trexio_file, basis_shell_index) #\n",
    "trexio.write_basis_exponent(trexio_file, basis_exponent) #\n",
    "trexio.write_basis_coefficient(trexio_file, basis_coefficient) #\n",
    "trexio.write_basis_prim_factor(trexio_file, basis_prim_factor) #\n",
    "\n",
    "##########################################\n",
    "# ao info\n",
    "##########################################\n",
    "trexio.write_ao_cartesian(trexio_file, ao_cartesian) #\n",
    "trexio.write_ao_num(trexio_file, ao_num) #\n",
    "trexio.write_ao_shell(trexio_file, ao_shell) #\n",
    "trexio.write_ao_normalization(trexio_file, ao_normalization) #\n",
    "\n",
    "##########################################\n",
    "# mo info\n",
    "##########################################\n",
    "trexio.write_mo_type(trexio_file, mo_type) #\n",
    "trexio.write_mo_num(trexio_file, mo_num) #\n",
    "trexio.write_mo_coefficient(trexio_file, mo_coefficient) #\n",
    "trexio.write_mo_occupation(trexio_file, mo_occupation) #"
   ]
  },
  {
   "cell_type": "code",
   "execution_count": 70,
   "id": "4e45d2e7",
   "metadata": {},
   "outputs": [],
   "source": [
    "##########################################\n",
    "# ao integrals\n",
    "##########################################\n",
    "trexio.write_ao_1e_int_overlap(trexio_file,intor_int1e_ovlp)\n",
    "trexio.write_ao_1e_int_kinetic(trexio_file,intor_int1e_kin)\n",
    "trexio.write_ao_1e_int_potential_n_e(trexio_file,intor_int1e_nuc)"
   ]
  },
  {
   "cell_type": "code",
   "execution_count": 71,
   "id": "4451522e",
   "metadata": {},
   "outputs": [],
   "source": [
    "##########################################\n",
    "# ECP\n",
    "##########################################\n",
    "# internal format of pyscf\n",
    "# https://pyscf.org/pyscf_api_docs/pyscf.gto.html?highlight=ecp#module-pyscf.gto.ecp\n",
    "\"\"\"\n",
    "{ atom: (nelec,  # core electrons\n",
    "((l, # l=-1 for UL, l>=0 for Ul to indicate |l><l|\n",
    "(((exp_1, c_1), # for r^0\n",
    "(exp_2, c_2), …),\n",
    "\n",
    "((exp_1, c_1), # for r^1\n",
    "(exp_2, c_2), …),\n",
    "\n",
    "((exp_1, c_1), # for r^2\n",
    "…))))),\n",
    "\n",
    "…}\n",
    "\"\"\"\n",
    "\n",
    "# Note! here, the smallest l for the local part is l=1(i.e., p). \n",
    "# As a default, nwchem does not have a redundunt non-local term (i.e., coeff=0) for H and He.\n",
    "\n",
    "ecp_num=0\n",
    "ecp_max_ang_mom_plus_1=[]\n",
    "ecp_z_core=[]\n",
    "ecp_nucleus_index=[]\n",
    "ecp_ang_mom=[]\n",
    "ecp_coefficient=[]\n",
    "ecp_exponent=[]\n",
    "ecp_power=[]\n",
    "\n",
    "for nuc_index, chemical_symbol in enumerate(chemical_symbol_list):\n",
    "    #print(f\"Chemical symbol is {chemical_symbol}\")\n",
    "    z_core, ecp_list = mol._ecp[chemical_symbol]\n",
    "    \n",
    "    #ecp zcore\n",
    "    ecp_z_core.append(z_core)\n",
    "    \n",
    "    #max_ang_mom+1\n",
    "    max_ang_mom_minus_1 = max([ecp[0] for ecp in ecp_list])\n",
    "    if max_ang_mom_minus_1 == -1: # special case!! H and He. PySCF database does not define the ul-s part for them.\n",
    "        max_ang_mom = 1\n",
    "        max_ang_mom_plus_1 = 2\n",
    "    else:\n",
    "        max_ang_mom = max_ang_mom_minus_1 + 1\n",
    "        max_ang_mom_plus_1 = max_ang_mom_minus_1 + 2\n",
    "    ecp_max_ang_mom_plus_1.append(max_ang_mom_plus_1)\n",
    "        \n",
    "    #the remaining parts\n",
    "    for ecp in ecp_list:\n",
    "        ang_mom=ecp[0]\n",
    "        if ang_mom==-1:\n",
    "            ang_mom=max_ang_mom\n",
    "        for r, exp_coeff_list in enumerate(ecp[1]):\n",
    "            for exp_coeff in exp_coeff_list:\n",
    "                exp,coeff = exp_coeff\n",
    "                \n",
    "                #store variables!!\n",
    "                ecp_num+=1\n",
    "                ecp_nucleus_index.append(nuc_index)\n",
    "                ecp_ang_mom.append(ang_mom)\n",
    "                ecp_coefficient.append(coeff)\n",
    "                ecp_exponent.append(exp)\n",
    "                ecp_power.append(r-2)\n",
    "                \n",
    "    # special case!! H and He. \n",
    "    # For the sake of the code puts a dummy coefficient for the ul-s part here.\n",
    "    ecp_num+=1\n",
    "    ecp_nucleus_index.append(nuc_index)\n",
    "    ecp_ang_mom.append(0)\n",
    "    ecp_coefficient.append(0.0)\n",
    "    ecp_exponent.append(1.0)\n",
    "    ecp_power.append(0)\n",
    "\n",
    "# write to the trex file\n",
    "trexio.write_ecp_num(trexio_file, ecp_num) #\n",
    "trexio.write_ecp_max_ang_mom_plus_1(trexio_file, ecp_max_ang_mom_plus_1) #\n",
    "trexio.write_ecp_z_core(trexio_file, ecp_z_core) #\n",
    "trexio.write_ecp_nucleus_index(trexio_file, ecp_nucleus_index) #\n",
    "trexio.write_ecp_ang_mom(trexio_file, ecp_ang_mom) #\n",
    "trexio.write_ecp_coefficient(trexio_file, ecp_coefficient) #\n",
    "trexio.write_ecp_exponent(trexio_file, ecp_exponent) #\n",
    "trexio.write_ecp_power(trexio_file, ecp_power) #"
   ]
  },
  {
   "cell_type": "code",
   "execution_count": 72,
   "id": "7a317966",
   "metadata": {},
   "outputs": [],
   "source": [
    "# close the TREX-IO file\n",
    "trexio_file.close()"
   ]
  },
  {
   "cell_type": "code",
   "execution_count": 73,
   "id": "2707160d",
   "metadata": {},
   "outputs": [
    {
     "name": "stdout",
     "output_type": "stream",
     "text": [
      "The conversion to TREXIO is done.\n"
     ]
    }
   ],
   "source": [
    "print(\"The conversion to TREXIO is done.\")"
   ]
  },
  {
   "cell_type": "code",
   "execution_count": null,
   "id": "57b6c8b2",
   "metadata": {},
   "outputs": [],
   "source": [
    "# TREXIO -> TurboRVB checklist\n",
    "# Pseudopotential -> OK\n",
    "# Structure -> OK\n",
    "# basis set -> OK\n",
    "# molecular orbital -> OK\n",
    "\n",
    "# uncontracted case -> OK\n",
    "# contracted case -> OK"
   ]
  }
 ],
 "metadata": {
  "kernelspec": {
   "display_name": "trexio",
   "language": "python",
   "name": "trexio"
  },
  "language_info": {
   "codemirror_mode": {
    "name": "ipython",
    "version": 3
   },
   "file_extension": ".py",
   "mimetype": "text/x-python",
   "name": "python",
   "nbconvert_exporter": "python",
   "pygments_lexer": "ipython3",
   "version": "3.7.4"
  }
 },
 "nbformat": 4,
 "nbformat_minor": 5
}
